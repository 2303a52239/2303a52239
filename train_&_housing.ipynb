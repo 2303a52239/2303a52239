{
  "nbformat": 4,
  "nbformat_minor": 0,
  "metadata": {
    "colab": {
      "provenance": [],
      "authorship_tag": "ABX9TyP3I2F7NNsmXeRXOOPMfhV0",
      "include_colab_link": true
    },
    "kernelspec": {
      "name": "python3",
      "display_name": "Python 3"
    },
    "language_info": {
      "name": "python"
    }
  },
  "cells": [
    {
      "cell_type": "markdown",
      "metadata": {
        "id": "view-in-github",
        "colab_type": "text"
      },
      "source": [
        "<a href=\"https://colab.research.google.com/github/2303a52239/2303a52239-AIML/blob/main/train_%26_housing.ipynb\" target=\"_parent\"><img src=\"https://colab.research.google.com/assets/colab-badge.svg\" alt=\"Open In Colab\"/></a>"
      ]
    },
    {
      "cell_type": "code",
      "execution_count": null,
      "metadata": {
        "colab": {
          "base_uri": "https://localhost:8080/"
        },
        "id": "KKqqIIXiIi2R",
        "outputId": "00caf0e5-d632-4232-d4c0-591fcc9b3216"
      },
      "outputs": [
        {
          "output_type": "stream",
          "name": "stdout",
          "text": [
            "Mounted at /content/drive\n"
          ]
        }
      ],
      "source": [
        "from google.colab import drive\n",
        "drive.mount('/content/drive')\n"
      ]
    },
    {
      "cell_type": "code",
      "source": [
        "import pandas as pd\n",
        "data = pd.read_csv('/content/drive/MyDrive/train.csv')\n",
        "print(data.head())"
      ],
      "metadata": {
        "colab": {
          "base_uri": "https://localhost:8080/"
        },
        "id": "l5NPaFPhKcJK",
        "outputId": "f76feb5e-af71-42e8-9b05-a01599663c35"
      },
      "execution_count": null,
      "outputs": [
        {
          "output_type": "stream",
          "name": "stdout",
          "text": [
            "   battery_power  blue  clock_speed  dual_sim  fc  four_g  int_memory  m_dep  \\\n",
            "0            842     0          2.2         0   1       0           7    0.6   \n",
            "1           1021     1          0.5         1   0       1          53    0.7   \n",
            "2            563     1          0.5         1   2       1          41    0.9   \n",
            "3            615     1          2.5         0   0       0          10    0.8   \n",
            "4           1821     1          1.2         0  13       1          44    0.6   \n",
            "\n",
            "   mobile_wt  n_cores  ...  px_height  px_width   ram  sc_h  sc_w  talk_time  \\\n",
            "0        188        2  ...         20       756  2549     9     7         19   \n",
            "1        136        3  ...        905      1988  2631    17     3          7   \n",
            "2        145        5  ...       1263      1716  2603    11     2          9   \n",
            "3        131        6  ...       1216      1786  2769    16     8         11   \n",
            "4        141        2  ...       1208      1212  1411     8     2         15   \n",
            "\n",
            "   three_g  touch_screen  wifi  price_range  \n",
            "0        0             0     1            1  \n",
            "1        1             1     0            2  \n",
            "2        1             1     0            2  \n",
            "3        1             0     0            2  \n",
            "4        1             1     0            1  \n",
            "\n",
            "[5 rows x 21 columns]\n"
          ]
        }
      ]
    },
    {
      "cell_type": "code",
      "source": [
        "y=data[\"price_range\"]\n",
        "print(y)"
      ],
      "metadata": {
        "colab": {
          "base_uri": "https://localhost:8080/"
        },
        "id": "H6wSWlPyLR0C",
        "outputId": "58f3c7ea-624a-4a48-fae2-22021edecb1e"
      },
      "execution_count": null,
      "outputs": [
        {
          "output_type": "stream",
          "name": "stdout",
          "text": [
            "0       1\n",
            "1       2\n",
            "2       2\n",
            "3       2\n",
            "4       1\n",
            "       ..\n",
            "1995    0\n",
            "1996    2\n",
            "1997    3\n",
            "1998    0\n",
            "1999    3\n",
            "Name: price_range, Length: 2000, dtype: int64\n"
          ]
        }
      ]
    },
    {
      "cell_type": "code",
      "source": [
        "x=data.drop('price_range',axis=1)\n",
        "print(x);"
      ],
      "metadata": {
        "colab": {
          "base_uri": "https://localhost:8080/"
        },
        "id": "v3mLgD5FMmXy",
        "outputId": "8524f18d-b877-451f-c355-e502b8243330"
      },
      "execution_count": null,
      "outputs": [
        {
          "output_type": "stream",
          "name": "stdout",
          "text": [
            "      battery_power  blue  clock_speed  dual_sim  fc  four_g  int_memory  \\\n",
            "0               842     0          2.2         0   1       0           7   \n",
            "1              1021     1          0.5         1   0       1          53   \n",
            "2               563     1          0.5         1   2       1          41   \n",
            "3               615     1          2.5         0   0       0          10   \n",
            "4              1821     1          1.2         0  13       1          44   \n",
            "...             ...   ...          ...       ...  ..     ...         ...   \n",
            "1995            794     1          0.5         1   0       1           2   \n",
            "1996           1965     1          2.6         1   0       0          39   \n",
            "1997           1911     0          0.9         1   1       1          36   \n",
            "1998           1512     0          0.9         0   4       1          46   \n",
            "1999            510     1          2.0         1   5       1          45   \n",
            "\n",
            "      m_dep  mobile_wt  n_cores  pc  px_height  px_width   ram  sc_h  sc_w  \\\n",
            "0       0.6        188        2   2         20       756  2549     9     7   \n",
            "1       0.7        136        3   6        905      1988  2631    17     3   \n",
            "2       0.9        145        5   6       1263      1716  2603    11     2   \n",
            "3       0.8        131        6   9       1216      1786  2769    16     8   \n",
            "4       0.6        141        2  14       1208      1212  1411     8     2   \n",
            "...     ...        ...      ...  ..        ...       ...   ...   ...   ...   \n",
            "1995    0.8        106        6  14       1222      1890   668    13     4   \n",
            "1996    0.2        187        4   3        915      1965  2032    11    10   \n",
            "1997    0.7        108        8   3        868      1632  3057     9     1   \n",
            "1998    0.1        145        5   5        336       670   869    18    10   \n",
            "1999    0.9        168        6  16        483       754  3919    19     4   \n",
            "\n",
            "      talk_time  three_g  touch_screen  wifi  \n",
            "0            19        0             0     1  \n",
            "1             7        1             1     0  \n",
            "2             9        1             1     0  \n",
            "3            11        1             0     0  \n",
            "4            15        1             1     0  \n",
            "...         ...      ...           ...   ...  \n",
            "1995         19        1             1     0  \n",
            "1996         16        1             1     1  \n",
            "1997          5        1             1     0  \n",
            "1998         19        1             1     1  \n",
            "1999          2        1             1     1  \n",
            "\n",
            "[2000 rows x 20 columns]\n"
          ]
        }
      ]
    },
    {
      "cell_type": "code",
      "source": [
        "dd=(x-x.min())/((x.max()) - x.min())\n",
        "print(dd)"
      ],
      "metadata": {
        "colab": {
          "base_uri": "https://localhost:8080/"
        },
        "id": "A1gmxc75MsMz",
        "outputId": "56704a27-fb57-4c91-ca4b-6cb76411740f"
      },
      "execution_count": null,
      "outputs": [
        {
          "output_type": "stream",
          "name": "stdout",
          "text": [
            "      battery_power  blue  clock_speed  dual_sim        fc  four_g  \\\n",
            "0          0.227789   0.0         0.68       0.0  0.052632     0.0   \n",
            "1          0.347361   1.0         0.00       1.0  0.000000     1.0   \n",
            "2          0.041416   1.0         0.00       1.0  0.105263     1.0   \n",
            "3          0.076152   1.0         0.80       0.0  0.000000     0.0   \n",
            "4          0.881764   1.0         0.28       0.0  0.684211     1.0   \n",
            "...             ...   ...          ...       ...       ...     ...   \n",
            "1995       0.195725   1.0         0.00       1.0  0.000000     1.0   \n",
            "1996       0.977956   1.0         0.84       1.0  0.000000     0.0   \n",
            "1997       0.941884   0.0         0.16       1.0  0.052632     1.0   \n",
            "1998       0.675351   0.0         0.16       0.0  0.210526     1.0   \n",
            "1999       0.006012   1.0         0.60       1.0  0.263158     1.0   \n",
            "\n",
            "      int_memory     m_dep  mobile_wt   n_cores    pc  px_height  px_width  \\\n",
            "0       0.080645  0.555556   0.900000  0.142857  0.10   0.010204  0.170895   \n",
            "1       0.822581  0.666667   0.466667  0.285714  0.30   0.461735  0.993324   \n",
            "2       0.629032  0.888889   0.541667  0.571429  0.30   0.644388  0.811749   \n",
            "3       0.129032  0.777778   0.425000  0.714286  0.45   0.620408  0.858478   \n",
            "4       0.677419  0.555556   0.508333  0.142857  0.70   0.616327  0.475300   \n",
            "...          ...       ...        ...       ...   ...        ...       ...   \n",
            "1995    0.000000  0.777778   0.216667  0.714286  0.70   0.623469  0.927904   \n",
            "1996    0.596774  0.111111   0.891667  0.428571  0.15   0.466837  0.977971   \n",
            "1997    0.548387  0.666667   0.233333  1.000000  0.15   0.442857  0.755674   \n",
            "1998    0.709677  0.000000   0.541667  0.571429  0.25   0.171429  0.113485   \n",
            "1999    0.693548  0.888889   0.733333  0.714286  0.80   0.246429  0.169559   \n",
            "\n",
            "           ram      sc_h      sc_w  talk_time  three_g  touch_screen  wifi  \n",
            "0     0.612774  0.285714  0.388889   0.944444      0.0           0.0   1.0  \n",
            "1     0.634687  0.857143  0.166667   0.277778      1.0           1.0   0.0  \n",
            "2     0.627205  0.428571  0.111111   0.388889      1.0           1.0   0.0  \n",
            "3     0.671566  0.785714  0.444444   0.500000      1.0           0.0   0.0  \n",
            "4     0.308658  0.214286  0.111111   0.722222      1.0           1.0   0.0  \n",
            "...        ...       ...       ...        ...      ...           ...   ...  \n",
            "1995  0.110102  0.571429  0.222222   0.944444      1.0           1.0   0.0  \n",
            "1996  0.474613  0.428571  0.555556   0.777778      1.0           1.0   1.0  \n",
            "1997  0.748530  0.285714  0.055556   0.166667      1.0           1.0   0.0  \n",
            "1998  0.163816  0.928571  0.555556   0.944444      1.0           1.0   1.0  \n",
            "1999  0.978888  1.000000  0.222222   0.000000      1.0           1.0   1.0  \n",
            "\n",
            "[2000 rows x 20 columns]\n"
          ]
        }
      ]
    },
    {
      "cell_type": "code",
      "source": [
        "from sklearn.model_selection import train_test_split\n",
        "x_train, x_test_, y_train, y_test=train_test_split(dd, y, test_size=0.2)\n",
        "print(x_train)\n",
        "print(x_test_)\n",
        "print(y_train)\n",
        "print(y_test)"
      ],
      "metadata": {
        "colab": {
          "base_uri": "https://localhost:8080/"
        },
        "id": "MVTDHftlM1dI",
        "outputId": "320ceec4-b1d3-4479-e5ea-b50d2a19cae4"
      },
      "execution_count": null,
      "outputs": [
        {
          "output_type": "stream",
          "name": "stdout",
          "text": [
            "      battery_power  blue  clock_speed  dual_sim        fc  four_g  \\\n",
            "1175       0.041416   0.0         0.60       1.0  0.157895     0.0   \n",
            "214        0.268537   0.0         0.20       1.0  0.000000     1.0   \n",
            "880        0.703407   0.0         0.88       1.0  0.157895     1.0   \n",
            "1059       0.951236   0.0         1.00       1.0  0.000000     1.0   \n",
            "1612       0.736807   0.0         0.28       0.0  0.052632     0.0   \n",
            "...             ...   ...          ...       ...       ...     ...   \n",
            "653        0.046760   0.0         0.44       1.0  0.421053     0.0   \n",
            "1724       0.340013   1.0         0.60       1.0  0.105263     1.0   \n",
            "99         0.061456   0.0         0.00       0.0  0.315789     0.0   \n",
            "446        0.995324   1.0         0.88       0.0  0.263158     1.0   \n",
            "1670       0.713427   1.0         0.44       1.0  0.210526     1.0   \n",
            "\n",
            "      int_memory     m_dep  mobile_wt   n_cores    pc  px_height  px_width  \\\n",
            "1175    0.725806  0.222222   0.291667  0.857143  0.60   0.107653  0.122830   \n",
            "214     0.774194  0.333333   0.091667  0.000000  0.00   0.627551  0.490654   \n",
            "880     0.725806  0.666667   0.875000  0.571429  0.60   0.162755  0.578772   \n",
            "1059    0.225806  0.777778   0.791667  1.000000  0.55   0.501531  0.391856   \n",
            "1612    0.064516  0.444444   0.925000  0.714286  0.75   0.034694  0.361816   \n",
            "...          ...       ...        ...       ...   ...        ...       ...   \n",
            "653     0.532258  0.111111   0.883333  0.857143  1.00   0.090306  0.522029   \n",
            "1724    0.096774  0.888889   0.491667  0.571429  0.15   0.279082  0.305073   \n",
            "99      0.467742  0.333333   0.633333  0.857143  0.35   0.629082  0.545394   \n",
            "446     1.000000  0.888889   0.541667  0.142857  0.65   0.539796  0.550734   \n",
            "1670    0.838710  0.888889   0.916667  0.428571  0.30   0.189286  0.110147   \n",
            "\n",
            "           ram      sc_h      sc_w  talk_time  three_g  touch_screen  wifi  \n",
            "1175  0.736505  0.642857  0.222222   0.722222      1.0           0.0   0.0  \n",
            "214   0.121593  0.285714  0.277778   0.444444      1.0           1.0   0.0  \n",
            "880   0.067611  0.500000  0.166667   0.944444      1.0           0.0   0.0  \n",
            "1059  0.512293  0.142857  0.166667   0.944444      1.0           1.0   0.0  \n",
            "1612  0.884019  0.142857  0.111111   0.000000      1.0           1.0   0.0  \n",
            "...        ...       ...       ...        ...      ...           ...   ...  \n",
            "653   0.625869  0.571429  0.277778   0.333333      1.0           1.0   0.0  \n",
            "1724  0.633084  0.714286  0.611111   0.555556      1.0           1.0   0.0  \n",
            "99    0.383752  0.071429  0.111111   0.277778      1.0           0.0   0.0  \n",
            "446   0.394709  0.000000  0.166667   0.333333      1.0           1.0   0.0  \n",
            "1670  0.975147  0.071429  0.111111   0.111111      1.0           0.0   0.0  \n",
            "\n",
            "[1600 rows x 20 columns]\n",
            "      battery_power  blue  clock_speed  dual_sim        fc  four_g  \\\n",
            "1521       0.418838   1.0         0.00       1.0  0.315789     0.0   \n",
            "510        0.124248   1.0         0.32       0.0  0.473684     1.0   \n",
            "947        0.271209   0.0         0.36       1.0  0.157895     0.0   \n",
            "1893       0.146961   1.0         0.88       1.0  0.052632     1.0   \n",
            "1375       0.736807   1.0         0.56       1.0  0.000000     1.0   \n",
            "...             ...   ...          ...       ...       ...     ...   \n",
            "583        0.876420   1.0         0.04       1.0  0.000000     1.0   \n",
            "449        0.897128   1.0         0.72       1.0  0.052632     0.0   \n",
            "796        0.469606   1.0         0.84       0.0  0.000000     0.0   \n",
            "1746       0.507682   0.0         0.00       0.0  0.157895     1.0   \n",
            "428        0.464930   0.0         0.32       0.0  0.157895     1.0   \n",
            "\n",
            "      int_memory     m_dep  mobile_wt   n_cores    pc  px_height  px_width  \\\n",
            "1521    0.500000  0.555556   0.558333  1.000000  0.35   0.478571  0.484646   \n",
            "510     0.774194  0.555556   0.591667  0.428571  1.00   0.297959  0.434579   \n",
            "947     0.645161  0.111111   0.591667  0.000000  0.80   0.087245  0.004673   \n",
            "1893    0.209677  0.111111   0.183333  0.571429  0.90   0.334184  0.504005   \n",
            "1375    0.983871  0.555556   0.108333  0.571429  0.10   0.327041  0.437917   \n",
            "...          ...       ...        ...       ...   ...        ...       ...   \n",
            "583     0.048387  0.111111   0.983333  0.285714  0.40   0.172449  0.538051   \n",
            "449     0.790323  0.666667   0.650000  1.000000  0.15   0.271939  0.255007   \n",
            "796     0.129032  0.222222   0.991667  0.857143  0.15   0.244898  0.655541   \n",
            "1746    0.806452  0.222222   0.050000  0.142857  0.45   0.308673  0.620160   \n",
            "428     0.290323  0.444444   0.575000  0.714286  0.35   0.331122  0.753672   \n",
            "\n",
            "           ram      sc_h      sc_w  talk_time  three_g  touch_screen  wifi  \n",
            "1521  0.316408  0.857143  0.833333   0.944444      1.0           0.0   0.0  \n",
            "510   0.844468  0.642857  0.333333   0.333333      1.0           1.0   0.0  \n",
            "947   0.087654  0.428571  0.500000   0.222222      1.0           0.0   0.0  \n",
            "1893  0.895243  0.357143  0.000000   0.166667      1.0           1.0   1.0  \n",
            "1375  0.322822  0.714286  0.500000   1.000000      1.0           1.0   0.0  \n",
            "...        ...       ...       ...        ...      ...           ...   ...  \n",
            "583   0.134420  0.285714  0.166667   0.666667      1.0           1.0   0.0  \n",
            "449   0.392304  0.000000  0.055556   0.666667      0.0           1.0   1.0  \n",
            "796   0.392304  0.428571  0.111111   0.944444      1.0           0.0   0.0  \n",
            "1746  0.296366  0.285714  0.166667   0.777778      1.0           0.0   1.0  \n",
            "428   0.411812  1.000000  0.277778   0.111111      1.0           1.0   1.0  \n",
            "\n",
            "[400 rows x 20 columns]\n",
            "1175    2\n",
            "214     0\n",
            "880     0\n",
            "1059    2\n",
            "1612    3\n",
            "       ..\n",
            "653     1\n",
            "1724    2\n",
            "99      1\n",
            "446     2\n",
            "1670    3\n",
            "Name: price_range, Length: 1600, dtype: int64\n",
            "1521    1\n",
            "510     3\n",
            "947     0\n",
            "1893    3\n",
            "1375    1\n",
            "       ..\n",
            "583     0\n",
            "449     1\n",
            "796     1\n",
            "1746    1\n",
            "428     1\n",
            "Name: price_range, Length: 400, dtype: int64\n"
          ]
        }
      ]
    },
    {
      "cell_type": "code",
      "source": [
        "import pandas as pd\n",
        "data=pd.read_csv(\"/content/drive/MyDrive/housing.csv\");\n",
        "print(data);\n"
      ],
      "metadata": {
        "colab": {
          "base_uri": "https://localhost:8080/"
        },
        "id": "DQXCKdLTNeHu",
        "outputId": "cf98e817-c77d-4700-f0bd-1eaa12571788"
      },
      "execution_count": null,
      "outputs": [
        {
          "output_type": "stream",
          "name": "stdout",
          "text": [
            "       longitude  latitude  housing_median_age  total_rooms  total_bedrooms  \\\n",
            "0        -122.23     37.88                41.0        880.0           129.0   \n",
            "1        -122.22     37.86                21.0       7099.0          1106.0   \n",
            "2        -122.24     37.85                52.0       1467.0           190.0   \n",
            "3        -122.25     37.85                52.0       1274.0           235.0   \n",
            "4        -122.25     37.85                52.0       1627.0           280.0   \n",
            "...          ...       ...                 ...          ...             ...   \n",
            "20635    -121.09     39.48                25.0       1665.0           374.0   \n",
            "20636    -121.21     39.49                18.0        697.0           150.0   \n",
            "20637    -121.22     39.43                17.0       2254.0           485.0   \n",
            "20638    -121.32     39.43                18.0       1860.0           409.0   \n",
            "20639    -121.24     39.37                16.0       2785.0           616.0   \n",
            "\n",
            "       population  households  median_income  median_house_value  \\\n",
            "0           322.0       126.0         8.3252            452600.0   \n",
            "1          2401.0      1138.0         8.3014            358500.0   \n",
            "2           496.0       177.0         7.2574            352100.0   \n",
            "3           558.0       219.0         5.6431            341300.0   \n",
            "4           565.0       259.0         3.8462            342200.0   \n",
            "...           ...         ...            ...                 ...   \n",
            "20635       845.0       330.0         1.5603             78100.0   \n",
            "20636       356.0       114.0         2.5568             77100.0   \n",
            "20637      1007.0       433.0         1.7000             92300.0   \n",
            "20638       741.0       349.0         1.8672             84700.0   \n",
            "20639      1387.0       530.0         2.3886             89400.0   \n",
            "\n",
            "      ocean_proximity  \n",
            "0            NEAR BAY  \n",
            "1            NEAR BAY  \n",
            "2            NEAR BAY  \n",
            "3            NEAR BAY  \n",
            "4            NEAR BAY  \n",
            "...               ...  \n",
            "20635          INLAND  \n",
            "20636          INLAND  \n",
            "20637          INLAND  \n",
            "20638          INLAND  \n",
            "20639          INLAND  \n",
            "\n",
            "[20640 rows x 10 columns]\n"
          ]
        }
      ]
    },
    {
      "cell_type": "code",
      "source": [
        "y=data['median_house_value']\n",
        "print(y);"
      ],
      "metadata": {
        "colab": {
          "base_uri": "https://localhost:8080/"
        },
        "id": "Rt5THx5hNria",
        "outputId": "cd8955bc-4c9c-42f5-f443-0295faf97239"
      },
      "execution_count": null,
      "outputs": [
        {
          "output_type": "stream",
          "name": "stdout",
          "text": [
            "0        452600.0\n",
            "1        358500.0\n",
            "2        352100.0\n",
            "3        341300.0\n",
            "4        342200.0\n",
            "           ...   \n",
            "20635     78100.0\n",
            "20636     77100.0\n",
            "20637     92300.0\n",
            "20638     84700.0\n",
            "20639     89400.0\n",
            "Name: median_house_value, Length: 20640, dtype: float64\n"
          ]
        }
      ]
    },
    {
      "cell_type": "code",
      "source": [
        "x=data.drop('median_house_value',axis=1)\n",
        "print(x);\n"
      ],
      "metadata": {
        "colab": {
          "base_uri": "https://localhost:8080/"
        },
        "id": "Depw7HuJNwcC",
        "outputId": "c2cb317f-73d0-4c57-bcb4-f140dc9821bd"
      },
      "execution_count": null,
      "outputs": [
        {
          "output_type": "stream",
          "name": "stdout",
          "text": [
            "       longitude  latitude  housing_median_age  total_rooms  total_bedrooms  \\\n",
            "0        -122.23     37.88                41.0        880.0           129.0   \n",
            "1        -122.22     37.86                21.0       7099.0          1106.0   \n",
            "2        -122.24     37.85                52.0       1467.0           190.0   \n",
            "3        -122.25     37.85                52.0       1274.0           235.0   \n",
            "4        -122.25     37.85                52.0       1627.0           280.0   \n",
            "...          ...       ...                 ...          ...             ...   \n",
            "20635    -121.09     39.48                25.0       1665.0           374.0   \n",
            "20636    -121.21     39.49                18.0        697.0           150.0   \n",
            "20637    -121.22     39.43                17.0       2254.0           485.0   \n",
            "20638    -121.32     39.43                18.0       1860.0           409.0   \n",
            "20639    -121.24     39.37                16.0       2785.0           616.0   \n",
            "\n",
            "       population  households  median_income ocean_proximity  \n",
            "0           322.0       126.0         8.3252        NEAR BAY  \n",
            "1          2401.0      1138.0         8.3014        NEAR BAY  \n",
            "2           496.0       177.0         7.2574        NEAR BAY  \n",
            "3           558.0       219.0         5.6431        NEAR BAY  \n",
            "4           565.0       259.0         3.8462        NEAR BAY  \n",
            "...           ...         ...            ...             ...  \n",
            "20635       845.0       330.0         1.5603          INLAND  \n",
            "20636       356.0       114.0         2.5568          INLAND  \n",
            "20637      1007.0       433.0         1.7000          INLAND  \n",
            "20638       741.0       349.0         1.8672          INLAND  \n",
            "20639      1387.0       530.0         2.3886          INLAND  \n",
            "\n",
            "[20640 rows x 9 columns]\n"
          ]
        }
      ]
    },
    {
      "cell_type": "code",
      "source": [
        "import pandas as pd\n",
        "\n",
        "# Assuming 'x' is your DataFrame with some string columns\n",
        "for column in x.columns:\n",
        "    if x[column].dtype == 'object':\n",
        "        try:\n",
        "            x[column] = pd.to_numeric(x[column])\n",
        "        except ValueError:\n",
        "            print(f\"Could not convert column '{column}' to numeric type.\")\n",
        "            # Handle the unconverted columns appropriately\n",
        "            # For example, you can drop the column or use one-hot encoding\n",
        "            x = x.drop(column, axis=1) # Drop the column if it cannot be converted\n",
        "\n",
        "# Now perform the normalization\n",
        "data = (x - x.min()) / (x.max() - x.min())\n",
        "print(data)"
      ],
      "metadata": {
        "id": "zBUKIIXSWgbC",
        "colab": {
          "base_uri": "https://localhost:8080/",
          "height": 0
        },
        "outputId": "c5e2ba58-a010-40ec-ed42-9707c98235cf"
      },
      "execution_count": 27,
      "outputs": [
        {
          "output_type": "stream",
          "name": "stdout",
          "text": [
            "Could not convert column 'ocean_proximity' to numeric type.\n",
            "       longitude  latitude  housing_median_age  total_rooms  total_bedrooms  \\\n",
            "0       0.211155  0.567481            0.784314     0.022331        0.019863   \n",
            "1       0.212151  0.565356            0.392157     0.180503        0.171477   \n",
            "2       0.210159  0.564293            1.000000     0.037260        0.029330   \n",
            "3       0.209163  0.564293            1.000000     0.032352        0.036313   \n",
            "4       0.209163  0.564293            1.000000     0.041330        0.043296   \n",
            "...          ...       ...                 ...          ...             ...   \n",
            "20635   0.324701  0.737513            0.470588     0.042296        0.057883   \n",
            "20636   0.312749  0.738576            0.333333     0.017676        0.023122   \n",
            "20637   0.311753  0.732200            0.313725     0.057277        0.075109   \n",
            "20638   0.301793  0.732200            0.333333     0.047256        0.063315   \n",
            "20639   0.309761  0.725824            0.294118     0.070782        0.095438   \n",
            "\n",
            "       population  households  median_income  \n",
            "0        0.008941    0.020556       0.539668  \n",
            "1        0.067210    0.186976       0.538027  \n",
            "2        0.013818    0.028943       0.466028  \n",
            "3        0.015555    0.035849       0.354699  \n",
            "4        0.015752    0.042427       0.230776  \n",
            "...           ...         ...            ...  \n",
            "20635    0.023599    0.054103       0.073130  \n",
            "20636    0.009894    0.018582       0.141853  \n",
            "20637    0.028140    0.071041       0.082764  \n",
            "20638    0.020684    0.057227       0.094295  \n",
            "20639    0.038790    0.086992       0.130253  \n",
            "\n",
            "[20640 rows x 8 columns]\n"
          ]
        }
      ]
    },
    {
      "cell_type": "code",
      "source": [
        "from sklearn.model_selection import train_test_split\n",
        "x_train,x_test,y_train,y_test=train_test_split(x,y,test_size=0.1)\n",
        "print(x_train);\n",
        "print(x_test);\n",
        "print(y_train);\n",
        "print(y_test);\n"
      ],
      "metadata": {
        "colab": {
          "base_uri": "https://localhost:8080/",
          "height": 0
        },
        "id": "N0BQh4bUWsq6",
        "outputId": "8fcedb72-1fad-46ed-9a55-ae28be2a2f89"
      },
      "execution_count": 31,
      "outputs": [
        {
          "output_type": "stream",
          "name": "stdout",
          "text": [
            "       longitude  latitude  housing_median_age  total_rooms  total_bedrooms  \\\n",
            "18587    -121.80     36.94                29.0       2377.0           476.0   \n",
            "2595     -123.74     40.66                25.0       2395.0           431.0   \n",
            "16751    -122.46     37.71                45.0       1799.0           394.0   \n",
            "14745    -117.04     32.58                14.0       2355.0           406.0   \n",
            "10372    -117.65     33.63                16.0       3388.0           425.0   \n",
            "...          ...       ...                 ...          ...             ...   \n",
            "19949    -119.37     36.21                35.0       2228.0           476.0   \n",
            "216      -122.20     37.79                29.0       1640.0           376.0   \n",
            "18859    -122.09     41.32                52.0       4019.0           824.0   \n",
            "11270    -117.99     33.78                15.0       4273.0           993.0   \n",
            "8573     -118.41     33.90                39.0       2040.0           336.0   \n",
            "\n",
            "       population  households  median_income  \n",
            "18587      1669.0       499.0         2.8214  \n",
            "2595        983.0       375.0         3.0469  \n",
            "16751      1436.0       389.0         3.6500  \n",
            "14745      1883.0       401.0         5.0311  \n",
            "10372      1395.0       427.0         8.4471  \n",
            "...           ...         ...            ...  \n",
            "19949      1567.0       449.0         1.4455  \n",
            "216         939.0       340.0         2.8321  \n",
            "18859      1728.0       706.0         2.2462  \n",
            "11270      2300.0       946.0         3.5313  \n",
            "8573        926.0       351.0         7.5552  \n",
            "\n",
            "[18576 rows x 8 columns]\n",
            "       longitude  latitude  housing_median_age  total_rooms  total_bedrooms  \\\n",
            "11781    -121.24     38.78                11.0       1851.0           352.0   \n",
            "4014     -118.57     34.15                22.0       5791.0           706.0   \n",
            "8300     -118.14     33.76                50.0        914.0           167.0   \n",
            "16563    -121.48     37.77                19.0       2364.0           373.0   \n",
            "13937    -117.27     34.24                34.0       3687.0           756.0   \n",
            "...          ...       ...                 ...          ...             ...   \n",
            "20470    -118.74     34.27                23.0       2493.0           522.0   \n",
            "14357    -117.21     32.74                52.0       1245.0           174.0   \n",
            "16306    -121.36     38.01                16.0        926.0           230.0   \n",
            "7288     -118.22     33.98                42.0        626.0           143.0   \n",
            "10685    -117.73     33.63                15.0       2874.0           592.0   \n",
            "\n",
            "       population  households  median_income  \n",
            "11781      1049.0       369.0         3.5288  \n",
            "4014       2059.0       673.0        10.9201  \n",
            "8300        322.0       165.0         4.7361  \n",
            "16563      1264.0       390.0         5.0176  \n",
            "13937       941.0       367.0         2.8750  \n",
            "...           ...         ...            ...  \n",
            "20470      1488.0       505.0         4.1800  \n",
            "14357       468.0       193.0         6.9322  \n",
            "16306       451.0       198.0         4.0221  \n",
            "7288        625.0       156.0         3.1250  \n",
            "10685      1382.0       586.0         5.5137  \n",
            "\n",
            "[2064 rows x 8 columns]\n",
            "18587    190100.0\n",
            "2595     136000.0\n",
            "16751    239900.0\n",
            "14745    152100.0\n",
            "10372    351300.0\n",
            "           ...   \n",
            "19949     54100.0\n",
            "216      150000.0\n",
            "18859     62900.0\n",
            "11270    213000.0\n",
            "8573     500001.0\n",
            "Name: median_house_value, Length: 18576, dtype: float64\n",
            "11781    141100.0\n",
            "4014     500001.0\n",
            "8300     418800.0\n",
            "16563    274200.0\n",
            "13937    117600.0\n",
            "           ...   \n",
            "20470    215000.0\n",
            "14357    334500.0\n",
            "16306    173300.0\n",
            "7288     166300.0\n",
            "10685    161800.0\n",
            "Name: median_house_value, Length: 2064, dtype: float64\n"
          ]
        }
      ]
    },
    {
      "cell_type": "code",
      "source": [
        "print(x.isnull().sum())\n",
        "data=data.fillna(0)\n",
        "print(data.dtypes)"
      ],
      "metadata": {
        "colab": {
          "base_uri": "https://localhost:8080/",
          "height": 0
        },
        "id": "RnwziDM_Xjhp",
        "outputId": "2eeadd4f-4e5d-440c-93af-838550e6fdd3"
      },
      "execution_count": 32,
      "outputs": [
        {
          "output_type": "stream",
          "name": "stdout",
          "text": [
            "longitude               0\n",
            "latitude                0\n",
            "housing_median_age      0\n",
            "total_rooms             0\n",
            "total_bedrooms        207\n",
            "population              0\n",
            "households              0\n",
            "median_income           0\n",
            "dtype: int64\n",
            "longitude             float64\n",
            "latitude              float64\n",
            "housing_median_age    float64\n",
            "total_rooms           float64\n",
            "total_bedrooms        float64\n",
            "population            float64\n",
            "households            float64\n",
            "median_income         float64\n",
            "dtype: object\n"
          ]
        }
      ]
    }
  ]
}